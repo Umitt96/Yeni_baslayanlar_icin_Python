{
 "cells": [
  {
   "cell_type": "markdown",
   "id": "0e43cc21-18d4-4ad9-b016-320302798489",
   "metadata": {},
   "source": [
    "# Başlık 1"
   ]
  },
  {
   "cell_type": "markdown",
   "id": "62d88682-82f2-470f-ae2e-2fda1ef4d3cc",
   "metadata": {},
   "source": [
    "## Başlık 2"
   ]
  },
  {
   "cell_type": "markdown",
   "id": "79d2a156-d1fc-40ee-aa7b-a6f761c9353a",
   "metadata": {
    "jp-MarkdownHeadingCollapsed": true
   },
   "source": [
    "### Başlık 3"
   ]
  },
  {
   "cell_type": "code",
   "execution_count": 1,
   "id": "39250f33-1770-4ad1-9bf7-baf8de6ddd9c",
   "metadata": {},
   "outputs": [
    {
     "name": "stdout",
     "output_type": "stream",
     "text": [
      "hello world\n",
      "hello world\n"
     ]
    }
   ],
   "source": [
    "print(\"hello world\")\n",
    "print(\"hello world\")"
   ]
  },
  {
   "cell_type": "markdown",
   "id": "d5b0fa04-2866-449b-865d-25ad89239fc5",
   "metadata": {
    "jp-MarkdownHeadingCollapsed": true
   },
   "source": [
    "### deneme"
   ]
  },
  {
   "cell_type": "markdown",
   "id": "b64bf147-188e-47e2-b2be-4c68d8d33bf6",
   "metadata": {},
   "source": [
    "Bu bir deneme satırıdır\n",
    "\n",
    "- birinci madde\n",
    "- ikinci madde\n",
    "\n",
    "1. A\n",
    "2. B\n",
    "3. C"
   ]
  },
  {
   "cell_type": "code",
   "execution_count": 7,
   "id": "a8e9bdff-8106-455c-bcc2-2987da65719d",
   "metadata": {},
   "outputs": [
    {
     "name": "stdout",
     "output_type": "stream",
     "text": [
      "hello world\n"
     ]
    }
   ],
   "source": [
    "print(\"hello world\")"
   ]
  },
  {
   "cell_type": "code",
   "execution_count": 3,
   "id": "eb7133de-1900-421a-a90c-38f4e5732af4",
   "metadata": {},
   "outputs": [
    {
     "name": "stdout",
     "output_type": "stream",
     "text": [
      "hello world\n"
     ]
    }
   ],
   "source": [
    "print(\"hello world\")"
   ]
  },
  {
   "cell_type": "code",
   "execution_count": 5,
   "id": "9adff89c-6a87-432d-85ee-46d3462fa92f",
   "metadata": {},
   "outputs": [
    {
     "name": "stdout",
     "output_type": "stream",
     "text": [
      "hello world\n"
     ]
    }
   ],
   "source": [
    "print(\"hello world\")"
   ]
  }
 ],
 "metadata": {
  "kernelspec": {
   "display_name": "Python 3 (ipykernel)",
   "language": "python",
   "name": "python3"
  },
  "language_info": {
   "codemirror_mode": {
    "name": "ipython",
    "version": 3
   },
   "file_extension": ".py",
   "mimetype": "text/x-python",
   "name": "python",
   "nbconvert_exporter": "python",
   "pygments_lexer": "ipython3",
   "version": "3.12.4"
  }
 },
 "nbformat": 4,
 "nbformat_minor": 5
}
