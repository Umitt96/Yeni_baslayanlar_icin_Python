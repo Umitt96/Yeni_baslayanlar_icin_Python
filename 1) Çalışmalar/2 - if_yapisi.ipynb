{
 "cells": [
  {
   "cell_type": "markdown",
   "id": "02c96de2-93ec-4451-b393-0092f2976dc6",
   "metadata": {
    "jp-MarkdownHeadingCollapsed": true
   },
   "source": [
    "## Reşitlik Yaş Örneği"
   ]
  },
  {
   "cell_type": "code",
   "execution_count": 43,
   "id": "2a90d74f-1758-4a95-a1f3-90990a64ad96",
   "metadata": {},
   "outputs": [
    {
     "name": "stdout",
     "output_type": "stream",
     "text": [
      "Yaşınız küçük\n"
     ]
    }
   ],
   "source": [
    "yas = 5\n",
    "\n",
    "if yas >= 18:\n",
    "    print(\"Reşit oldunuz!\")\n",
    "\n",
    "elif yas < 18:\n",
    "    print(\"Yaşınız küçük\")\n",
    "\n",
    "else:\n",
    "    print(\"Hatalı giriş yaptınız, tekrar deneyiniz!\")"
   ]
  },
  {
   "cell_type": "markdown",
   "id": "b42f17ec-95d9-493b-aaf6-7f16d592368d",
   "metadata": {},
   "source": [
    "## Ehliyet Yaş Örneği"
   ]
  },
  {
   "cell_type": "code",
   "execution_count": 74,
   "id": "4a197f01-379a-4b76-bb56-4a171437d2a2",
   "metadata": {},
   "outputs": [
    {
     "name": "stdout",
     "output_type": "stream",
     "text": [
      "Ehliyet almak için yaşınızı giriniz\n"
     ]
    },
    {
     "name": "stdin",
     "output_type": "stream",
     "text": [
      " -999\n"
     ]
    },
    {
     "name": "stdout",
     "output_type": "stream",
     "text": [
      "Yaş kısmına eksi sayı giremezsiniz\n"
     ]
    }
   ],
   "source": [
    "print(\"Ehliyet almak için yaşınızı giriniz\")\n",
    "yas = int(input())\n",
    "yas_siniri = 16\n",
    "\n",
    "if yas >= yas_siniri:\n",
    "    print(\"Ehliyet alabilirsiniz!\")\n",
    "    \n",
    "elif yas < yas_siniri and yas > 0:\n",
    "    print(\"Ehliyet alamazsınız\")\n",
    "\n",
    "elif yas < 0:\n",
    "    print(\"Yaş kısmına eksi sayı giremezsiniz\")"
   ]
  },
  {
   "cell_type": "code",
   "execution_count": null,
   "id": "8eac1294-32f8-4735-a1b1-266afc0b47ba",
   "metadata": {},
   "outputs": [],
   "source": []
  }
 ],
 "metadata": {
  "kernelspec": {
   "display_name": "Python 3 (ipykernel)",
   "language": "python",
   "name": "python3"
  },
  "language_info": {
   "codemirror_mode": {
    "name": "ipython",
    "version": 3
   },
   "file_extension": ".py",
   "mimetype": "text/x-python",
   "name": "python",
   "nbconvert_exporter": "python",
   "pygments_lexer": "ipython3",
   "version": "3.12.4"
  }
 },
 "nbformat": 4,
 "nbformat_minor": 5
}
